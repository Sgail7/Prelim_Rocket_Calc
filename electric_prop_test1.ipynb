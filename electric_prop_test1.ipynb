{
 "cells": [
  {
   "cell_type": "markdown",
   "metadata": {},
   "source": [
    "Electric Propulsion Test Code #1"
   ]
  },
  {
   "cell_type": "code",
   "execution_count": 2,
   "metadata": {},
   "outputs": [],
   "source": [
    "import matplotlib.pyplot as plt\n",
    "from math import sqrt\n",
    "import pandas as pd\n",
    "import numpy as np"
   ]
  },
  {
   "cell_type": "markdown",
   "metadata": {},
   "source": [
    "Inputs"
   ]
  },
  {
   "cell_type": "code",
   "execution_count": 4,
   "metadata": {},
   "outputs": [],
   "source": [
    "data = pd.read_excel('Electric_Rockets_and_Solar_Panels.xlsx')\n",
    "# based on the excel choose the row location of the one you want\n",
    "iont = 3\n",
    "hallt = 0\n",
    "solarp = 6"
   ]
  },
  {
   "cell_type": "code",
   "execution_count": 5,
   "metadata": {},
   "outputs": [],
   "source": [
    "# From Solar Panels\n",
    "pp = data.iloc[solarp,1] # power per panel\n",
    "spweight = data.iloc[solarp,2] # solar panel weight\n",
    "paneleff = data.iloc[solarp,3] # this is in kW/m^3"
   ]
  },
  {
   "cell_type": "code",
   "execution_count": 15,
   "metadata": {},
   "outputs": [],
   "source": [
    "# From Ion Thruster Chosen\n",
    "ionisp = data.iloc[iont,1]\n",
    "ionthrust = data.iloc[iont,2]\n",
    "ioneff = data.iloc[iont,3]\n",
    "ionfuelmw = data.iloc[iont,4]\n",
    "ionweight = data.iloc[iont,5]\n",
    "# From Hall Thruster Chosen\n",
    "hallisp = data.iloc[hallt,1]\n",
    "hallthrust = data.iloc[hallt,2]\n",
    "halleff = data.iloc[hallt,3]\n",
    "hallfuelmw = data.iloc[hallt,4]\n",
    "hallweight = data.iloc[hallt,5]"
   ]
  },
  {
   "cell_type": "markdown",
   "metadata": {},
   "source": [
    "Electric Prop Equations"
   ]
  },
  {
   "cell_type": "code",
   "execution_count": 17,
   "metadata": {},
   "outputs": [],
   "source": [
    "ge = 9.81 # earth gravity\n",
    "a = 7.34 # q/m for xenon got it from the book (10^5 C/kg)\n",
    "# Ion Thrusters\n",
    "ionVa = ((ionisp*ge)**2)/(2*(ge/ionfuelmw))\n",
    "ionEP = (ionthrust*ionisp*ge)/(2*ioneff)\n",
    "ionI = ionEP/ionVa\n",
    "ionUe = (2*a*ionVa)/ionfuelmw\n",
    "ionmdot = (2*ionEP)/(ionUe**2)\n",
    "# Hall Thrusters\n",
    "hallVa = ((hallisp*ge)**2)/(2*(ge/hallfuelmw))\n",
    "hallEP = (hallthrust*hallisp*ge)/(2*halleff)\n",
    "hallI = hallEP/hallVa\n",
    "hallUe = (2*a*hallVa)/hallfuelmw\n",
    "halldot = (2*hallEP)/(hallUe**2)"
   ]
  }
 ],
 "metadata": {
  "kernelspec": {
   "display_name": "pymc_env",
   "language": "python",
   "name": "python3"
  },
  "language_info": {
   "codemirror_mode": {
    "name": "ipython",
    "version": 3
   },
   "file_extension": ".py",
   "mimetype": "text/x-python",
   "name": "python",
   "nbconvert_exporter": "python",
   "pygments_lexer": "ipython3",
   "version": "3.12.4"
  }
 },
 "nbformat": 4,
 "nbformat_minor": 2
}
