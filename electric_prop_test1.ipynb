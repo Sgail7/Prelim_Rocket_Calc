{
 "cells": [
  {
   "cell_type": "markdown",
   "metadata": {},
   "source": [
    "Electric Propulsion Test Code #1"
   ]
  },
  {
   "cell_type": "code",
   "execution_count": 1,
   "metadata": {},
   "outputs": [],
   "source": [
    "import matplotlib.pyplot as plt\n",
    "from math import sqrt\n",
    "import pandas as pd\n",
    "import numpy as np"
   ]
  },
  {
   "cell_type": "markdown",
   "metadata": {},
   "source": [
    "Inputs"
   ]
  },
  {
   "cell_type": "code",
   "execution_count": 3,
   "metadata": {},
   "outputs": [],
   "source": [
    "mars_dist = 1 # Going from 1 AU @ Earth to 1.524 AU @ Mars\n",
    "accel = 1\n",
    "thrust = 1\n",
    "isp = 1\n",
    "t_burn = 1\n",
    "cost_per_kg = 1\n",
    "EP = 1\n",
    "eff = 1\n",
    "distance = 1 #dont know what distance this refers to"
   ]
  },
  {
   "cell_type": "markdown",
   "metadata": {},
   "source": [
    "Small Functions"
   ]
  },
  {
   "cell_type": "code",
   "execution_count": 5,
   "metadata": {},
   "outputs": [],
   "source": [
    "# Calculate the time it takes to travel to Mars\n",
    "# Assumes a you turn around at the halfway point and decelerate \n",
    "f_ma_calc = 2*sqrt(mars_dist/accel)\n",
    "mass_flow_rate = thrust/(isp*9.8066)\n",
    "mass_propellant = mass_flow_rate*t_burn\n",
    "fuel_cost= mass_propellant*cost_per_kg\n",
    "vary_thrust = (EP*2*eff)/(isp*9.8066)\n",
    "solar_irradiance = (6.95e8**2/distance**2)*6.4e7\n",
    "\n",
    "def secs_to_days(secs):\n",
    "    return secs/3600/24"
   ]
  },
  {
   "cell_type": "markdown",
   "metadata": {},
   "source": [
    "Vary Mass Function"
   ]
  },
  {
   "cell_type": "code",
   "execution_count": 7,
   "metadata": {},
   "outputs": [
    {
     "name": "stdout",
     "output_type": "stream",
     "text": [
      "success--reached Mars with turnaround at 45 percent of journey\n",
      "time to reach Mars: 0.041666666666666664 days\n",
      "velocity at mars 1800.0 m/s\n"
     ]
    }
   ],
   "source": [
    "pos = 0\n",
    "v = 0 #m/s\n",
    "t = 0\n",
    "dt = 3600 # time step (seconds)\n",
    "dturn = 1\n",
    "m_struct = 1\n",
    "m_fuel = 1\n",
    "\n",
    "for dturn in range(45,100): #search over possible values for the d_turn as a percent of the total trip distance\n",
    "    pos = 0\n",
    "    v = 0 #m/s\n",
    "    t = 0\n",
    "    \n",
    "    Mtot = m_struct + m_fuel\n",
    "    dmdt = mass_flow_rate\n",
    "\n",
    "    while pos < mars_dist:\n",
    "        #update velocity\n",
    "        if pos < dturn/100*mars_dist:\n",
    "            v = v + thrust/Mtot*dt #accelerate\n",
    "        else:\n",
    "            v = v - thrust/Mtot*dt #deaccelerate\n",
    "        if v < 0:\n",
    "            print(\"fail--didn't reach Mars with turnaround at\", dturn, \"percent of journey\") #stop if Hermes starts to turn around\n",
    "            break\n",
    "        pos = pos + v*dt #update position\n",
    "        EP = 2000000\n",
    "        Mtot = Mtot - dmdt*dt #update mass\n",
    "        t = t+dt #update time\n",
    "        \n",
    "    if pos > mars_dist:\n",
    "        print(\"success--reached Mars with turnaround at\", dturn, \"percent of journey\")\n",
    "        break\n",
    "print(\"time to reach Mars:\", t/24/3600, \"days\")\n",
    "print(\"velocity at mars\", v, \"m/s\")"
   ]
  },
  {
   "cell_type": "markdown",
   "metadata": {},
   "source": [
    "Vary Mass One way"
   ]
  },
  {
   "cell_type": "code",
   "execution_count": 11,
   "metadata": {},
   "outputs": [
    {
     "name": "stdout",
     "output_type": "stream",
     "text": [
      "time to reach Mars: 0.041666666666666664 days\n",
      "velocity at mars 171098.55497631896 m/s\n",
      "thrust at Mars: 95.05475276462164 N\n",
      "solar irradiance at Mars: 1370.184225967728 W/m^2\n"
     ]
    }
   ],
   "source": [
    "pos = 0\n",
    "v = 0 #m/s\n",
    "t = 0\n",
    "dt = 3600 # time step (seconds)\n",
    "\n",
    "    \n",
    "Mtot = m_struct + m_fuel\n",
    "sun_to_craft = 1.5e11 + pos\n",
    "isp = 2600\n",
    "eff = 0.63\n",
    "\n",
    "while pos < mars_dist:\n",
    "    #update velocity\n",
    "    EP = (6.95e8**2/sun_to_craft**2)*6.4e7*3500*0.4\n",
    "    thrust = (EP*2*eff)/(isp*9.8066)\n",
    "    dmdt = thrust/(isp*9.8066)\n",
    "    v = v + thrust/Mtot*dt #accelerate\n",
    "        \n",
    "    Mtot = Mtot - dmdt*dt #update mass\n",
    "    pos = pos + v*dt #update position\n",
    "    sun_to_craft = 1.5e11 + pos/3\n",
    "    t = t+dt #update time\n",
    "print(\"time to reach Mars:\", t/24/3600, \"days\")\n",
    "print(\"velocity at mars\", v, \"m/s\")\n",
    "print(\"thrust at Mars:\", thrust, \"N\")\n",
    "print(\"solar irradiance at Mars:\", (6.95e8**2/sun_to_craft**2)*6.4e7, \"W/m^2\")"
   ]
  }
 ],
 "metadata": {
  "kernelspec": {
   "display_name": "pymc_env",
   "language": "python",
   "name": "python3"
  },
  "language_info": {
   "codemirror_mode": {
    "name": "ipython",
    "version": 3
   },
   "file_extension": ".py",
   "mimetype": "text/x-python",
   "name": "python",
   "nbconvert_exporter": "python",
   "pygments_lexer": "ipython3",
   "version": "3.12.4"
  }
 },
 "nbformat": 4,
 "nbformat_minor": 2
}
