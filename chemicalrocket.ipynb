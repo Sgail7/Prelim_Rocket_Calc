{
 "cells": [
  {
   "cell_type": "markdown",
   "metadata": {},
   "source": [
    "Chemical Rocket Basic Code"
   ]
  },
  {
   "cell_type": "code",
   "execution_count": 16,
   "metadata": {},
   "outputs": [],
   "source": [
    "import pandas as pd\n",
    "import numpy as np\n",
    "import math"
   ]
  },
  {
   "cell_type": "code",
   "execution_count": 18,
   "metadata": {},
   "outputs": [],
   "source": [
    "# reading in data and choosing engine\n",
    "df = pd.read_csv('rockets.csv')\n",
    "rocketno = 0\n",
    "isp = df.iloc[rocketno,1]\n",
    "thrust = df.iloc[rocketno,2]\n",
    "propellant = df.iloc[rocketno,3]\n",
    "deltav = df.iloc[rocketno,6]\n",
    "mdot = df.iloc[rocketno,7]\n",
    "ratio = df.iloc[rocketno,9]"
   ]
  },
  {
   "cell_type": "code",
   "execution_count": 19,
   "metadata": {},
   "outputs": [],
   "source": [
    "# actual math starts\n",
    "mr =  (1 - math.exp((-deltav*1000)/(9.81*isp))) * 100 # burnout/overall ratio\n",
    "ox = mr * (ratio/(ratio+1)) # percent ox\n",
    "prop = mr - ox # percent prop"
   ]
  }
 ],
 "metadata": {
  "kernelspec": {
   "display_name": "pymc_env",
   "language": "python",
   "name": "python3"
  },
  "language_info": {
   "codemirror_mode": {
    "name": "ipython",
    "version": 3
   },
   "file_extension": ".py",
   "mimetype": "text/x-python",
   "name": "python",
   "nbconvert_exporter": "python",
   "pygments_lexer": "ipython3",
   "version": "3.12.4"
  }
 },
 "nbformat": 4,
 "nbformat_minor": 2
}
